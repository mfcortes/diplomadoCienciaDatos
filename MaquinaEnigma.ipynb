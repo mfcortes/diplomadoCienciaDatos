{
  "nbformat": 4,
  "nbformat_minor": 0,
  "metadata": {
    "colab": {
      "name": "MaquinaEnigma.ipynb",
      "provenance": [],
      "collapsed_sections": [
        "wgXcadS-bSP9",
        "Jj8PqzOvbSP-",
        "6YGzsSSmbSP-",
        "otzqo7SWbSQA",
        "bnPXoxdIbSQA",
        "pm1SFyugbSQC",
        "o8a438ZgbSQF",
        "HahqeNy-bSQF",
        "Kik_gjh3bSQG",
        "eSIJQBwnTU8i"
      ],
      "include_colab_link": true
    },
    "kernelspec": {
      "display_name": "Python 3 (ipykernel)",
      "language": "python",
      "name": "python3"
    },
    "language_info": {
      "codemirror_mode": {
        "name": "ipython",
        "version": 3
      },
      "file_extension": ".py",
      "mimetype": "text/x-python",
      "name": "python",
      "nbconvert_exporter": "python",
      "pygments_lexer": "ipython3",
      "version": "3.8.11"
    }
  },
  "cells": [
    {
      "cell_type": "markdown",
      "metadata": {
        "id": "view-in-github",
        "colab_type": "text"
      },
      "source": [
        "<a href=\"https://colab.research.google.com/github/mfcortes/diplomadoCienciaDatos/blob/main/MaquinaEnigma.ipynb\" target=\"_parent\"><img src=\"https://colab.research.google.com/assets/colab-badge.svg\" alt=\"Open In Colab\"/></a>"
      ]
    },
    {
      "cell_type": "markdown",
      "metadata": {
        "id": "MQ6yZ8wBbSP6"
      },
      "source": [
        "# **Introducción a Python**\n",
        "# FP29. Tarea Final 02\n",
        "## Máquina Enigma\n",
        "¡Bienvenido Agente! Nos encontramos en pleno conflicto y hemos encontrado los planos de una  [Máquina Enigma](https://es.wikipedia.org/wiki/Enigma_(máquina)) enemiga. Necesitamos que configures una máquina que nos ayude a descifrar los mensajes que interceptamos.\n",
        "La máquina posee tres rotores y un reflector. Cada rotor es un disco circular plano con 26 contactos eléctricos en cada cara, uno por cada letra del alfabeto. Cada contacto de una cara está conectado o cableado a un contacto diferente de la cara contraria. Por ejemplo, en un rotor en particular, el contacto número 1 de una cara puede estar conectado con el contacto número 14 en la otra cara y el contacto número 5 de una cara con el número 22 de la otra.\n",
        "\n",
        "Como cada rotor está en contacto con el otro, lo anterior permite ir cambiando el indice de las letras de entrada, configurando así una criptografía muy compleja de resolver en aquellos tiempos. Estos rotores se conocen como.\n",
        "\n",
        "* Rotor derecho\n",
        "* Rotor medio\n",
        "* Rotor izquierdo\n",
        "* Reflector\n",
        "\n",
        "Mira este video para que entiendas mejor el concepto le la [Máquina Enigma](https://youtu.be/VnsTHAH5yAE)."
      ]
    },
    {
      "cell_type": "markdown",
      "metadata": {
        "id": "wgXcadS-bSP9"
      },
      "source": [
        "## Estructura de los rotores\n",
        "\n",
        "Los tres rotores (izquierdo, medio y derecho) tienen el alfabeto de 26 letras ordenadas en su sección de entrada y las mismas 26 letras desordenadas en su sección de salida.<br>\n",
        "El reflector, posee solo 13 letra, las cuales están repetidas 2 veces cada una y están repartidas aleatoriamente en el dispositivo. El punto en donde la señal del rotor izquierdo pasa al reflector, determina la letra de entrada; la salida será por la letra que conforma la pareja.\n",
        "\n",
        "Esta es la configuración que hemos encontrado:\n",
        "\n",
        "```python\n",
        "\"\"\"\n",
        "Reflector  Rot_izd   Rot_med   Rot_der  Teclado\n",
        "    A       A - E     A - A     A - B      A\n",
        "    B       B - K     B - J     B - D      B\n",
        "    C       C - M     C - D     C - F      C\n",
        "    D       D - F     D - K     D - H      D\n",
        "    E       E - L     E - S     E - J      E\n",
        "    F       F - G     F - I     F - L      F\n",
        "    G       G - D     G - R     G - C      G\n",
        "    D       H - Q     H - U     H - P      H\n",
        "    I       I - V     I - X     I - R      I\n",
        "    J       J - Z     J - B     J - T      J\n",
        "    K       K - N     K - L     K - X      K\n",
        "    G       L - T     L - H     L - V      L\n",
        "    M       M - O     M - W     M - Z      M\n",
        "    K       N - W     N - T     N - N      N\n",
        "    M       O - Y     O - M     O - Y      O\n",
        "    I       P - H     P - C     P - E      P\n",
        "    E       Q - X     Q - Q     Q - I      Q\n",
        "    B       R - U     R - G     R - W      R\n",
        "    F       S - S     S - Z     S - G      S\n",
        "    T       T - P     T - N     T - A      T\n",
        "    C       U - A     U - P     U - K      U\n",
        "    V       V - I     V - Y     V - M      V\n",
        "    V       W - B     W - F     W - U      W\n",
        "    J       X - R     X - V     X - S      X\n",
        "    A       Y - C     Y - O     Y - Q      Y\n",
        "    T       Z - J     Z - E     Z - O      Z\n",
        "\"\"\"\n",
        "```"
      ]
    },
    {
      "cell_type": "markdown",
      "metadata": {
        "id": "Jj8PqzOvbSP-"
      },
      "source": [
        "## Funcionamiento general\n",
        "Cada vez que un usuario presiona una tecla en el Teclado (columna derecha del diagrama anterior), ocurre lo siguiente:\n",
        "1. El Rotor_derecho avanza una posición hacia arriba, i.e., la combinación 'A - B' pasa al final de la lista y el primer lugar lo ocupa 'B - D'\n",
        "2. Se obtiene la posición en la lista (Teclado) de la tecla presionada por el operador . \n",
        "3. La posición obtenida en el punto 2, se utiliza para buscar la letra en la sección derecha del Rotor_derecho que está en la misma posición (frente a frente). En esa posición existe una letra a la cual llamaremos Letra_entrada.\n",
        "4. En el Rotor_derecho se busca la posición de la Letra_entrada en la sección de salida. Esta será la posición de salida del rotor.\n",
        "5. Se repiten los pasos anteriores, 3 y 4, en el Rotor_medio; esta vez la posición de entrada es equivalente a la posición de salida del punto 4.\n",
        "6. Se repiten los pasos anteriores, 3 y 4, en el Rotor_izquierdo.\n",
        "7. Con la posición de salida del Rotor_izquierdo se entra en el Reflector. En la posición de entrada en el Reflector hay una letra. Se buscará entonces la otra letra equivalente dentro del Reflector. Esto determinará la posición de salida.\n",
        "8. Con esta posición (la de salida del Reflector) se invierte el proceso, es decir, se busca la letra que está en contacto con el rotor anterior y se busca la posición de dicha letra en la salida del rotor. Este proceso se repite sucesivamente con los rotores izquierdo, medio y derecho.\n",
        "9. La posición de salida del Rotor_derecho marcará la posición en el Teclado, indicando la letra encriptada."
      ]
    },
    {
      "cell_type": "markdown",
      "metadata": {
        "id": "6YGzsSSmbSP-"
      },
      "source": [
        "## Algunos detalles adicionales\n",
        "Cada vez que procesamos una letra, primero rotamos una posición el Rotor_derecho (hacia arriba).\n",
        "Cuando la letra \"V\" de la componente ordenada (iquierda) del Rotor_derecho alcanza la posición inicial en la lista, se gira una posición hacia arriba el Rotor_medio.\n",
        "Lo mismo ocurre cuando la letra 'Q' de la componente ordenada (iquierda) del Rotor_medio llega al inicio, en este caso, se avanza una posición hacia arriba el Rotor_izquierdo."
      ]
    },
    {
      "cell_type": "markdown",
      "metadata": {
        "id": "CLQM5D63bSP_"
      },
      "source": [
        "## Más detalles\n",
        "Esto no termina aquí. Para hacer más difícil el trabajo de desencriptación, la máquina tiene la posibilidad de fijar la posición inicial de los tres rotores centrales (izquierdo, medio y derecho). Para esto se elige una clave de tres letras, las cuales marcan la posición inicial de la primera letra de la sección ordenada (izquierda) de cada rotor. Por ejemplo la clave <font color='red'>'MCK'</font> dejaría los rotores de la siguiente forma:\n",
        "\n",
        "```Python\n",
        "\"\"\"\n",
        "Reflector  Rot_izd   Rot_med   Rot_der  Teclado\n",
        "    A       M - O     C - D     K - X      A\n",
        "    B       N - W     D - K     L - V      B\n",
        "    C       O - Y     E - S     M - Z      C\n",
        "    D       P - H     F - I     N - N      D\n",
        "    E       Q - X     G - R     O - Y      E\n",
        "    F       R - U     H - U     P - E      F\n",
        "    G       S - S     I - X     Q - I      G\n",
        "    D       T - P     J - B     R - W      H\n",
        "    I       U - A     K - L     S - G      I\n",
        "    J       V - I     L - H     T - A      J\n",
        "    K       W - B     M - W     U - K      K\n",
        "    G       X - R     N - T     V - M      L\n",
        "    M       Y - C     O - M     W - U      M\n",
        "    K       Z - J     P - C     X - S      N\n",
        "    M       A - E     Q - Q     Y - Q      O\n",
        "    I       B - K     R - G     Z - O      P\n",
        "    E       C - M     S - Z     A - B      Q\n",
        "    B       D - F     T - N     B - D      R\n",
        "    F       E - L     U - P     C - F      S\n",
        "    T       F - G     V - Y     D - H      T\n",
        "    C       G - D     W - F     E - J      U\n",
        "    V       H - Q     X - V     F - L      V\n",
        "    V       I - V     Y - O     G - C      W\n",
        "    J       J - Z     Z - E     H - P      X\n",
        "    A       K - N     A - A     I - R      Y\n",
        "    T       L - T     B - J     J - T      Z\n",
        "\"\"\"\n",
        "```\n",
        "Fíjate que ni el Teclado ni el Reflector cambian, solo los rotores izquierdo, medio y derecho."
      ]
    },
    {
      "cell_type": "markdown",
      "metadata": {
        "id": "PeA4-UywbSQA"
      },
      "source": [
        "Aquí te dejamos algunos videos con la misma explicación:\n",
        "    \n",
        "[Criptografía - Máquina Enigma, funcionamiento detallado](https://youtu.be/XK_1gUo8YDE)\n"
      ]
    },
    {
      "cell_type": "markdown",
      "metadata": {
        "id": "otzqo7SWbSQA"
      },
      "source": [
        "## <font color='green'>Misión</font>\n",
        "\n",
        "Con los planos obtenidos, debes programar en Python tu propia Máquina Enigma. Cuando hayas terminado, se te dará un mensaje cifrado que deberás decodificar para aprobar el curso.\n",
        "\n",
        "Tu misión consiste en lo siguiente:<br>\n",
        "1. Programar la lógica de la máquina utilizando la información de los rotores conseguidos\n",
        "2. Ingresar una clave inicial (te será dada)\n",
        "3. Decodificar el mensaje correctamente\n",
        "\n",
        "Tips:\n",
        "\n",
        "1. Con la clave <font color='red'>'MCK'</font>, la frace **\"ENIGMA REVEALED\"** debiera encriptarse como **'QMJIDOMZWZJFJR\"** y viceversa.\n",
        "2. Recuerda usa stackoverflow e internet para buscar sintaxis y funciones.\n",
        "3. Divide el desafío en tantos problemas pequeños como puedas. "
      ]
    },
    {
      "cell_type": "markdown",
      "metadata": {
        "id": "bnPXoxdIbSQA"
      },
      "source": [
        "## <font color='green'>Tarea 1:</font> Cablea los rotores\n",
        "\n",
        "Crea los cableados de los rotores \n",
        "\n",
        "TIP:\n",
        "1. Crea lista con las secuencias\n",
        "2. Utiliza los strings proporcionados y conviértelos a listas con **split( )**\n"
      ]
    },
    {
      "cell_type": "markdown",
      "metadata": {
        "id": "cNxyFA0ozTrv"
      },
      "source": [
        "##Generamos la lista del teclado#"
      ]
    },
    {
      "cell_type": "code",
      "metadata": {
        "id": "kZCA7cQgbSQB"
      },
      "source": [
        "def compOrdenadaRotores():\n",
        "  # Componente ordenada de los rotores \n",
        "  st = 'A B C D E F G H I J K L M N O P Q R S T U V W X Y Z'\n",
        "\n",
        "  # LLevamos el string st a nuestra lista que contendra el abecedario (letras del teclado)\n",
        "  listaTecado=st.split()\n",
        "  #listaTecado\n",
        "  # Validamos estado de nuestra lista\n",
        "  #listaTecado\n",
        "  return listaTecado\n"
      ],
      "execution_count": null,
      "outputs": []
    },
    {
      "cell_type": "markdown",
      "metadata": {
        "id": "FQ1xCAKh0NhW"
      },
      "source": [
        "##Generamos Lista con el Reflector##"
      ]
    },
    {
      "cell_type": "code",
      "metadata": {
        "id": "YxCSSmrnbSQB"
      },
      "source": [
        "def creaReflector():\n",
        "  # Creamos el reflector\n",
        "  rf = 'A B C D E F G D I J K G M K M I E B F T C V V J A T'\n",
        "\n",
        "  # llevamos las letras contenidas en el string \"rf\" a nuestra lista \"reflector\"\n",
        "  reflector=rf.split()\n",
        "  # Validamos el esstado de nuestra lista de reflector\n",
        "  #reflector\n",
        "  return reflector"
      ],
      "execution_count": null,
      "outputs": []
    },
    {
      "cell_type": "markdown",
      "metadata": {
        "id": "EAan23y_0YTO"
      },
      "source": [
        "##Generamos Listas para crear los 3 Rotores (izquierdo,central,derecho)##"
      ]
    },
    {
      "cell_type": "markdown",
      "metadata": {
        "id": "qFFRQK1D2NH-"
      },
      "source": [
        "### Parte desordenada del Rotor Derecho###"
      ]
    },
    {
      "cell_type": "code",
      "metadata": {
        "id": "MFMYWX7gbSQB"
      },
      "source": [
        "def compDesordenadaRotorD():\n",
        "  # Creamos el parte desordenada de rotor derecho\n",
        "  # Este string contiene el alfabeto de salida (desordenado)\n",
        "  str_r_derecha = 'B D F H J L C P R T X V Z N Y E I W G A K M U S Q O'\n",
        "\n",
        "  # LLevamo el string de letras de la variable \"str_r_derecha\" a nuestra lista rndRotorDerecho\n",
        "  rndROtorDerecho=str_r_derecha.split()\n",
        "  #Validamos estado de nuestra lista\n",
        "  rndROtorDerecho\n",
        "  return rndROtorDerecho"
      ],
      "execution_count": null,
      "outputs": []
    },
    {
      "cell_type": "markdown",
      "metadata": {
        "id": "V_R756vP3ED3"
      },
      "source": [
        "### Parte desordenada del Rotor del medio###"
      ]
    },
    {
      "cell_type": "code",
      "metadata": {
        "id": "Jyo4qq26bSQB"
      },
      "source": [
        "def compDesordenadaRotorC():\n",
        "  # Creamos el parte desordenada de rotor central\n",
        "  # Este string contiene el alfabeto de salida (desordenado)\n",
        "  str_r_medio = 'A J D K S I R U X B L H W T M C Q G Z N P Y F V O E'\n",
        "\n",
        "  # LLevamo el string de letras de la variable \"str_r_medio\" a nuestra lista rndRotorCentral\n",
        "  rndRotorCentral = str_r_medio.split()\n",
        "  #Validamos estado de nuestra lista\n",
        "  #rndRotorCentral\n",
        "  return rndRotorCentral"
      ],
      "execution_count": null,
      "outputs": []
    },
    {
      "cell_type": "markdown",
      "metadata": {
        "id": "TIenMZ4F34sT"
      },
      "source": [
        "###Parte desordenada del Rotor izquierdo"
      ]
    },
    {
      "cell_type": "code",
      "metadata": {
        "id": "LLnPWUDGbSQC"
      },
      "source": [
        "def compDesordenadaRotorI():\n",
        "  # Creamos el parte desordenada de rotor del izquierdo\n",
        "  # Este string contiene el alfabeto de salida (desordenado)\n",
        "  str_r_izq = 'E K M F L G D Q V Z N T O W Y H X U S P A I B R C J '\n",
        "\n",
        "  # LLevamo el string de letras de la variable \"str_r_izq\" a nuestra lista rndRotorIzquierdo\n",
        "\n",
        "  rndRotorIzquierdo=str_r_izq.split()\n",
        "  # Validamos El estado de nuestra lista\n",
        "  return rndRotorIzquierdo"
      ],
      "execution_count": null,
      "outputs": []
    },
    {
      "cell_type": "markdown",
      "metadata": {
        "id": "pm1SFyugbSQC"
      },
      "source": [
        "## <font color='green'>Tarea 2:</font> Arma los rotores\n",
        "\n",
        "Crea tres listas vacias para almacenar los rotores armados.\n",
        "Recuerda que cada rotor tiene una componente ordenada y otra desordenada. La ordenada va la izquierda y desordenada a la derecha.\n",
        "\n",
        "TIP:\n",
        "1. La estructura a obtener debiera ser una lista de listas. Por ejemplo, el rotor_izquierdo debería verse así:\n",
        "\n",
        "```python\n",
        "[['A', 'E'],\n",
        " ['B', 'K'],\n",
        " ['C', 'M'],\n",
        " ['D', 'F'],\n",
        " ['E', 'L'],\n",
        " ['F', 'G'],\n",
        " ['G', 'D'],\n",
        " ['H', 'Q'],\n",
        " ['I', 'V'],\n",
        " ['J', 'Z'],\n",
        " ['K', 'N'],\n",
        " ['L', 'T'],\n",
        " ['M', 'O'],\n",
        " ['N', 'W'],\n",
        " ['O', 'Y'],\n",
        " ['P', 'H'],\n",
        " ['Q', 'X'],\n",
        " ['R', 'U'],\n",
        " ['S', 'S'],\n",
        " ['T', 'P'],\n",
        " ['U', 'A'],\n",
        " ['V', 'I'],\n",
        " ['W', 'B'],\n",
        " ['X', 'R'],\n",
        " ['Y', 'C'],\n",
        " ['Z', 'J']]\n",
        "```"
      ]
    },
    {
      "cell_type": "markdown",
      "metadata": {
        "id": "h_56EI5n5UnX"
      },
      "source": [
        "##Generamos los tres rotores con sus correspondientes pares de letras "
      ]
    },
    {
      "cell_type": "markdown",
      "metadata": {
        "id": "3jzsFJQA6Aej"
      },
      "source": [
        "### Creacion de las variables de tipo lista que contendran los tres rototres###"
      ]
    },
    {
      "cell_type": "code",
      "metadata": {
        "id": "TCmYvn44bSQC"
      },
      "source": [
        "# Creamos las Variables vacias de nuestros 3 rotores que contendran una tupla de letras \n",
        "\n",
        "#rotorIzquierdo = []\n",
        "#rotorCentral = []\n",
        "#rotorDerecho = []"
      ],
      "execution_count": null,
      "outputs": []
    },
    {
      "cell_type": "markdown",
      "metadata": {
        "id": "WKNHsef0bSQD"
      },
      "source": [
        "Ya creadas las listas, ahora añádeles los pares de letras que conforman cada uno de los tres rotores.\n",
        "\n",
        "TIP:\n",
        "1. Utiliza un ciclo **for** para añadir los pares de elementos  (ordenado - desordenado) en cada rotor. \n",
        "2. Utiliza las listas que creamos anteriormente\n",
        "3. Utiliza la función zip( ) para unir las lista\n",
        "4. Utiliza la función **append( )** e *indexing* \n",
        "\n",
        "```python\n",
        "for i in zip(lista_1, lista_2):\n",
        "    disco.append([i[0], i[1]])\n",
        "```"
      ]
    },
    {
      "cell_type": "markdown",
      "metadata": {
        "id": "ZYF2WXhA6NJP"
      },
      "source": [
        "### Se generan los 3 rotores con sus tuplas de letras usando la funcion zip que permite enparejar listas"
      ]
    },
    {
      "cell_type": "markdown",
      "metadata": {
        "id": "JRFMlmue7eLt"
      },
      "source": [
        "* Rotor Izquierdo"
      ]
    },
    {
      "cell_type": "code",
      "metadata": {
        "id": "vnm8kXKTbSQD"
      },
      "source": [
        "# Generamos el rotor izquierdo \"rotorIzquierdo\" con su tupla de letras \n",
        "# Sacadas de nuestras listas \"listaTecado (Parte Ordenada) y \"rndRotorIzquierdo (Parte desordenada izquierda)\"\n",
        "# usamos funcion zip para emparejar listas\n",
        "def armadoRotorIzquierdo(listaTecado,rndRotorIzquierdo):\n",
        "  rotorIzquierdo = []\n",
        "  for i in zip (listaTecado, rndRotorIzquierdo):\n",
        "    rotorIzquierdo.append([i[0],i[1]])\n",
        "  return rotorIzquierdo\n"
      ],
      "execution_count": null,
      "outputs": []
    },
    {
      "cell_type": "markdown",
      "metadata": {
        "id": "wSw5t0ucfNtd"
      },
      "source": [
        "* Rotor Central\n"
      ]
    },
    {
      "cell_type": "code",
      "metadata": {
        "id": "UHogqw0GfTuo"
      },
      "source": [
        "# Generamos el rotor central \"rotorCentral\" con su tupla de letras \n",
        "# Sacadas de nuestras listas \"listaTecado (Parte Ordenada) y \"rndRotorCentral (Parte desordenada central)\"\n",
        "# usamos funcion zip para emparejar listas\n",
        "def armadoRotorCentral(listaTecado,rndRotorCentral):\n",
        "  rotorCentral = []\n",
        "  for  m in zip  (listaTecado, rndRotorCentral):\n",
        "    rotorCentral.append([m[0],m[1]])\n",
        "  return rotorCentral"
      ],
      "execution_count": null,
      "outputs": []
    },
    {
      "cell_type": "markdown",
      "metadata": {
        "id": "TmSL4GEZfxiX"
      },
      "source": [
        "* Rotor dereccho\n"
      ]
    },
    {
      "cell_type": "code",
      "metadata": {
        "id": "kBHf1tgPf2zy"
      },
      "source": [
        "# Generamos el rotor central \"rotorDerecho\" con su tupla de letras \n",
        "# Sacadas de nuestras listas \"listaTecado (Parte Ordenada) y \"rndROtorDerecho (Parte desordenada derecha)\"\n",
        "# usamos funcion zip para emparejar listas\n",
        "def armadoRotorDerecho(listaTecado,rndROtorDerecho):\n",
        "  rotorDerecho = []\n",
        "  for d in zip (listaTecado, rndROtorDerecho):\n",
        "    rotorDerecho.append([d[0],d[1]])\n",
        "  return rotorDerecho"
      ],
      "execution_count": null,
      "outputs": []
    },
    {
      "cell_type": "markdown",
      "metadata": {
        "id": "MYBkasx7bSQD"
      },
      "source": [
        "Imprime la configuración del Reflector, de los tres rotores y del Teclado. De la misma forma que en la instrucciones iniciales.\n",
        "\n",
        "Tip:\n",
        "1. Utiliza función **print( )** y **f-strings** para el correcto formateo\n",
        "2. Utiliza **zip( )** nuevamente para agrupar todas las listas. Luego recórrelas con un ciclo **for** para imprimirlas."
      ]
    },
    {
      "cell_type": "markdown",
      "metadata": {
        "id": "2-pO1V0hWkza"
      },
      "source": [
        "## <font color='darkorange'>*creamos las principales partes de la Maquina*</font>"
      ]
    },
    {
      "cell_type": "code",
      "metadata": {
        "id": "LBTg4vA4JFQg"
      },
      "source": [
        "reflector=creaReflector()\n",
        "listaTecado=compOrdenadaRotores()\n",
        "rndROtorDerecho=compDesordenadaRotorD()\n",
        "rndRotorCentral=compDesordenadaRotorC()\n",
        "rndRotorIzquierdo=compDesordenadaRotorI()\n",
        "rotorDerecho = armadoRotorDerecho(listaTecado,rndROtorDerecho)\n",
        "rotorCentral = armadoRotorCentral(listaTecado,rndRotorCentral)\n",
        "rotorIzquierdo = armadoRotorIzquierdo(listaTecado,rndRotorIzquierdo)\n",
        "\n"
      ],
      "execution_count": null,
      "outputs": []
    },
    {
      "cell_type": "markdown",
      "metadata": {
        "id": "Ej51dko19SmW"
      },
      "source": [
        "##Salida por pantalla del estado de nuestras listas"
      ]
    },
    {
      "cell_type": "code",
      "metadata": {
        "id": "weFP3uPSbSQD",
        "scrolled": true,
        "colab": {
          "base_uri": "https://localhost:8080/"
        },
        "outputId": "e5df1685-96a4-400b-e9e1-1cdbb4afe9b4"
      },
      "source": [
        "'''\n",
        "Nombre Funcion : estadoMaquina\n",
        "\n",
        "Funcionalidad : Mostrar por pantalla estado de la maquina\n",
        "\n",
        "Parametros de entrada:\n",
        "  Reflector : Recive la lista con las letras de nuestro Reflector \n",
        "  rotorIzquierdo : Recibe la lista de tuplas de nuestro rotor izquierdo\n",
        "  rotorCentral   : Recibe la lista de tuplas de nuestro rotor central   \n",
        "  rotorDerecho   : Recibe la lista de tuplas de nuestro rotor derecho\n",
        "  listaTeclado   : Recibe la lista de nuestro teclado alfabeto ordenado\n",
        "\n",
        "Funcionalisdad  :\n",
        "  qui sacamos por paantalla el estado de caddda una de las listaqss generadas\n",
        "  para poder formar la estructura de nuestra maquina enigma \n",
        "  Reflector, Rotor izquierdo, Rotor Central, Rotor Derecho y Teclado \n",
        "  Ademas devuelve el booleano True o False en caso de que no se pudo ver \n",
        "  el estado de la maquina por algun error que esta controlado con try except\n",
        "'''\n",
        "\n",
        "def estadoMaquina():\n",
        "  q=0\n",
        "  print(f'q Reflector  Rotor_izd   Rotor_med   Rotor_der   Teclado')\n",
        "  for i in zip(reflector, rotorIzquierdo, rotorCentral , rotorDerecho, listaTecado):\n",
        "    print(f'{q} {i[0]}          {i[1]}  {i[2]}  {i[3]}   {i[4]}')\n",
        "    q += 1\n",
        "\n",
        "#Invocamos la funcion para vcer el esto de nuetra maquina enigma\n",
        "estadoMaquina()\n"
      ],
      "execution_count": null,
      "outputs": [
        {
          "output_type": "stream",
          "name": "stdout",
          "text": [
            "q Reflector  Rotor_izd   Rotor_med   Rotor_der   Teclado\n",
            "0 A          ['A', 'E']  ['A', 'A']  ['A', 'B']   A\n",
            "1 B          ['B', 'K']  ['B', 'J']  ['B', 'D']   B\n",
            "2 C          ['C', 'M']  ['C', 'D']  ['C', 'F']   C\n",
            "3 D          ['D', 'F']  ['D', 'K']  ['D', 'H']   D\n",
            "4 E          ['E', 'L']  ['E', 'S']  ['E', 'J']   E\n",
            "5 F          ['F', 'G']  ['F', 'I']  ['F', 'L']   F\n",
            "6 G          ['G', 'D']  ['G', 'R']  ['G', 'C']   G\n",
            "7 D          ['H', 'Q']  ['H', 'U']  ['H', 'P']   H\n",
            "8 I          ['I', 'V']  ['I', 'X']  ['I', 'R']   I\n",
            "9 J          ['J', 'Z']  ['J', 'B']  ['J', 'T']   J\n",
            "10 K          ['K', 'N']  ['K', 'L']  ['K', 'X']   K\n",
            "11 G          ['L', 'T']  ['L', 'H']  ['L', 'V']   L\n",
            "12 M          ['M', 'O']  ['M', 'W']  ['M', 'Z']   M\n",
            "13 K          ['N', 'W']  ['N', 'T']  ['N', 'N']   N\n",
            "14 M          ['O', 'Y']  ['O', 'M']  ['O', 'Y']   O\n",
            "15 I          ['P', 'H']  ['P', 'C']  ['P', 'E']   P\n",
            "16 E          ['Q', 'X']  ['Q', 'Q']  ['Q', 'I']   Q\n",
            "17 B          ['R', 'U']  ['R', 'G']  ['R', 'W']   R\n",
            "18 F          ['S', 'S']  ['S', 'Z']  ['S', 'G']   S\n",
            "19 T          ['T', 'P']  ['T', 'N']  ['T', 'A']   T\n",
            "20 C          ['U', 'A']  ['U', 'P']  ['U', 'K']   U\n",
            "21 V          ['V', 'I']  ['V', 'Y']  ['V', 'M']   V\n",
            "22 V          ['W', 'B']  ['W', 'F']  ['W', 'U']   W\n",
            "23 J          ['X', 'R']  ['X', 'V']  ['X', 'S']   X\n",
            "24 A          ['Y', 'C']  ['Y', 'O']  ['Y', 'Q']   Y\n",
            "25 T          ['Z', 'J']  ['Z', 'E']  ['Z', 'O']   Z\n"
          ]
        }
      ]
    },
    {
      "cell_type": "markdown",
      "metadata": {
        "id": "o8a438ZgbSQF"
      },
      "source": [
        "## <font color='green'>Tarea 3:</font> Crea una función para girar los rotores\n",
        "\n",
        "Crea una función llamada **avanza_rotor**. La función debe girar los rotores hacia arriba. Créala de esta forma:\n",
        "\n",
        "```python\n",
        "def avanza_rotor(disco, paso):\n",
        "```\n",
        "Entrada:<br>\n",
        "**disco**: corresponde a la lista con la información del rotor a avanzar. Esta es una lista de listas.<br>\n",
        "**paso**. Esta variable indicará la cantidad de pasos que debe avanzar el rotor.\n",
        "\n",
        "Salida:<br>\n",
        "La funión deve devolver el rotor (lista de listas) rotado **paso** pasos.\n",
        "\n",
        "TIP:\n",
        "1. Recuerda el uso de **pop( )** y **append( )** en las listas"
      ]
    },
    {
      "cell_type": "markdown",
      "metadata": {
        "id": "uhJ3T6HO-wq7"
      },
      "source": [
        "## Construccion de Funcion de Avance de Rotor"
      ]
    },
    {
      "cell_type": "code",
      "metadata": {
        "id": "c4plnrlXbSQF"
      },
      "source": [
        "def avanzaRotor(disco,paso):\n",
        "  #Sacamos el primer elemento de la lñista con la funcion poop\n",
        "  #Este poroceso se repitira el numero de pasos que se eespecifican en la variable \"paso\"\n",
        "  try:  \n",
        "    for i in range(int(paso)):\n",
        "      primerElemento = disco.pop(0)\n",
        "      disco.append(primerElemento)\n",
        "  except ValueError:\n",
        "    print('Error el parametro paso debe ser un numero')\n",
        "  finally:\n",
        "    return(disco)\n",
        "\n",
        "# Se valida funcion se dejo comentado ya que se valido funcionamiento        \n",
        "#rotorCentral = avanzaRotor(rotorCentral,1)\n",
        "#Vemos estado del Reflector \n",
        "#rotorCentral\n",
        "#Vemos el estado de la maquina\n",
        "#estadoMaquina()"
      ],
      "execution_count": null,
      "outputs": []
    },
    {
      "cell_type": "code",
      "metadata": {
        "colab": {
          "base_uri": "https://localhost:8080/"
        },
        "id": "2YZ8tt0XbaSi",
        "outputId": "113b6f75-15b6-46b6-ccce-95573758006b"
      },
      "source": [
        "rotorCentral\n"
      ],
      "execution_count": null,
      "outputs": [
        {
          "output_type": "execute_result",
          "data": {
            "text/plain": [
              "[['A', 'A'],\n",
              " ['B', 'J'],\n",
              " ['C', 'D'],\n",
              " ['D', 'K'],\n",
              " ['E', 'S'],\n",
              " ['F', 'I'],\n",
              " ['G', 'R'],\n",
              " ['H', 'U'],\n",
              " ['I', 'X'],\n",
              " ['J', 'B'],\n",
              " ['K', 'L'],\n",
              " ['L', 'H'],\n",
              " ['M', 'W'],\n",
              " ['N', 'T'],\n",
              " ['O', 'M'],\n",
              " ['P', 'C'],\n",
              " ['Q', 'Q'],\n",
              " ['R', 'G'],\n",
              " ['S', 'Z'],\n",
              " ['T', 'N'],\n",
              " ['U', 'P'],\n",
              " ['V', 'Y'],\n",
              " ['W', 'F'],\n",
              " ['X', 'V'],\n",
              " ['Y', 'O'],\n",
              " ['Z', 'E']]"
            ]
          },
          "metadata": {},
          "execution_count": 138
        }
      ]
    },
    {
      "cell_type": "markdown",
      "metadata": {
        "id": "HahqeNy-bSQF"
      },
      "source": [
        "## <font color='green'>Tarea 4:</font> Crea una función para posicionar los rotores según la clave inicial\n",
        "\n",
        "Crea una función que configure la posición inicial de los rotores. Llámala **conf_rotores** de esta forma:\n",
        "\n",
        "```python\n",
        "def conf_rotores(clave_inicial):\n",
        "```\n",
        "Entrada:<br>\n",
        "**clave_inicial**: corresponde a un string de tres letras.<br>\n",
        "\n",
        "A partir de la clave inicial se rotan los tres rotores (izquierdo, medio y derecho).\n",
        "\n",
        "Salida:<br>\n",
        "La funión debe devolver los tres rotores posicionados según la clave ingresada.\n",
        "\n",
        "Tip:\n",
        "1. Necesitarás usa un ciclo **while** cuya condición de salida sea que la letra izquierda del primer par de letras de cada rotor coincida con la letra correspondiente de la clave ingresada.\n",
        "2. No es necesario que pases los rotores (lista) como argumentos ya que esta estrcutura tiene caracter *global* en Python\n"
      ]
    },
    {
      "cell_type": "markdown",
      "metadata": {
        "id": "gLB02G8JK6Ji"
      },
      "source": [
        "##Construccion de la funcion que posiciona la maquina en su estado inicial segun tres letras"
      ]
    },
    {
      "cell_type": "code",
      "metadata": {
        "id": "rLAXfHUfbSQF"
      },
      "source": [
        "'''\n",
        "Nombre Funcion : DefinirEstadoInicialRotores\n",
        "\n",
        "Funcionalidad : Definir el estado inicial de los tres rotores\n",
        "\n",
        "Parametros de entrada:\n",
        " clave_inicial  : aqui se indica la clave inicial que debe tener 3 letras \n",
        "\n",
        "Detalles  :\n",
        "  Se van girando los tres rotores hasta encontrar la configuracion segun las \n",
        "  tres letras ingresadas\n",
        "'''\n",
        "\n",
        "def DefinirEstadoInicialRotores(clave_inicial):\n",
        "    primeraLetra = clave_inicial[0]\n",
        "    segundaLetra = clave_inicial[1]\n",
        "    terceraLetra = clave_inicial[2]\n",
        "    c = 0\n",
        "    #Configuracion Rotor izquierdo\n",
        "    while rotorIzquierdo[0][0]!=primeraLetra:\n",
        "      avanzaRotor(rotorIzquierdo, 1)\n",
        "      c += 1\n",
        "      if (c>26):\n",
        "        # Se valida en caso de no encontrar la latra en Disco\n",
        "        break\n",
        "    \n",
        "    c = 0\n",
        "    #Configuracion Rotor central\n",
        "    while rotorCentral[0][0]!=segundaLetra:\n",
        "      avanzaRotor(rotorCentral, 1)  \n",
        "      c += 1\n",
        "      if (c>26):\n",
        "        # Se valida en caso de no encontrar la latra en Disco\n",
        "        break\n",
        "    c = 0\n",
        "    #Configuracion de Rotor Derecho    \n",
        "    while rotorDerecho[0][0]!=terceraLetra:\n",
        "      avanzaRotor(rotorDerecho, 1)  \n",
        "      c += 1\n",
        "      if (c>26):\n",
        "        # Se valida en caso de no encontrar la latra en Disco\n",
        "        break\n",
        "      \n",
        "    \n",
        "    return"
      ],
      "execution_count": null,
      "outputs": []
    },
    {
      "cell_type": "code",
      "metadata": {
        "id": "FtMNkmWgbSQG"
      },
      "source": [
        "# Aqui probamos con las letras 'MCK'\n",
        "DefinirEstadoInicialRotores('MCK')\n"
      ],
      "execution_count": null,
      "outputs": []
    },
    {
      "cell_type": "code",
      "metadata": {
        "colab": {
          "base_uri": "https://localhost:8080/"
        },
        "id": "ZIeDMLGQPw0q",
        "outputId": "374c5253-fea0-45d9-eece-d000b2062ab6"
      },
      "source": [
        "#Validamos el estado de la maquina luego de haberlla configurado con 'MCK'\n",
        "estadoMaquina()"
      ],
      "execution_count": null,
      "outputs": [
        {
          "output_type": "stream",
          "name": "stdout",
          "text": [
            "q Reflector  Rotor_izd   Rotor_med   Rotor_der   Teclado\n",
            "0 A          ['M', 'O']  ['C', 'D']  ['K', 'X']   A\n",
            "1 B          ['N', 'W']  ['D', 'K']  ['L', 'V']   B\n",
            "2 C          ['O', 'Y']  ['E', 'S']  ['M', 'Z']   C\n",
            "3 D          ['P', 'H']  ['F', 'I']  ['N', 'N']   D\n",
            "4 E          ['Q', 'X']  ['G', 'R']  ['O', 'Y']   E\n",
            "5 F          ['R', 'U']  ['H', 'U']  ['P', 'E']   F\n",
            "6 G          ['S', 'S']  ['I', 'X']  ['Q', 'I']   G\n",
            "7 D          ['T', 'P']  ['J', 'B']  ['R', 'W']   H\n",
            "8 I          ['U', 'A']  ['K', 'L']  ['S', 'G']   I\n",
            "9 J          ['V', 'I']  ['L', 'H']  ['T', 'A']   J\n",
            "10 K          ['W', 'B']  ['M', 'W']  ['U', 'K']   K\n",
            "11 G          ['X', 'R']  ['N', 'T']  ['V', 'M']   L\n",
            "12 M          ['Y', 'C']  ['O', 'M']  ['W', 'U']   M\n",
            "13 K          ['Z', 'J']  ['P', 'C']  ['X', 'S']   N\n",
            "14 M          ['A', 'E']  ['Q', 'Q']  ['Y', 'Q']   O\n",
            "15 I          ['B', 'K']  ['R', 'G']  ['Z', 'O']   P\n",
            "16 E          ['C', 'M']  ['S', 'Z']  ['A', 'B']   Q\n",
            "17 B          ['D', 'F']  ['T', 'N']  ['B', 'D']   R\n",
            "18 F          ['E', 'L']  ['U', 'P']  ['C', 'F']   S\n",
            "19 T          ['F', 'G']  ['V', 'Y']  ['D', 'H']   T\n",
            "20 C          ['G', 'D']  ['W', 'F']  ['E', 'J']   U\n",
            "21 V          ['H', 'Q']  ['X', 'V']  ['F', 'L']   V\n",
            "22 V          ['I', 'V']  ['Y', 'O']  ['G', 'C']   W\n",
            "23 J          ['J', 'Z']  ['Z', 'E']  ['H', 'P']   X\n",
            "24 A          ['K', 'N']  ['A', 'A']  ['I', 'R']   Y\n",
            "25 T          ['L', 'T']  ['B', 'J']  ['J', 'T']   Z\n"
          ]
        }
      ]
    },
    {
      "cell_type": "markdown",
      "metadata": {
        "id": "Kik_gjh3bSQG"
      },
      "source": [
        "## <font color='green'>Tarea 5:</font> Crea funciones para pasar señales por los rotores\n",
        "\n",
        "Crea tres funciones llamadas **pasa_senal_ida**, **pasa_senal_vuelta** e **indice_reflextor** de esta forma:\n",
        "\n",
        "```python\n",
        "def pasa_senal_ida(rotor, indice):\n",
        "\n",
        "    \n",
        "def pasa_senal_vuelta(rotor, indice):\n",
        "    \n",
        "    \n",
        "def indice_reflextor(rotor, indice):\n",
        "    \n",
        "```\n",
        "Entrada:<br>\n",
        "**rotor**: corresponde a la lista con la información del rotor. Esta es una lista de listas.<br>\n",
        "**indice**. Es el punto de contacto en el rotor: En el caso de **pasa_senal_ida** será por la derecha y en el caso de **pasa_senal_vuelta** será por la izquierda\n",
        "\n",
        "Salida:<br>\n",
        "Las funciones devuelven el indice de salida del rotor. Esto simula por donde salía la corriente del rotor para tomar contacto con el siguiente rotor o el reflector."
      ]
    },
    {
      "cell_type": "markdown",
      "metadata": {
        "id": "eSIJQBwnTU8i"
      },
      "source": [
        "##Creamos funciones de paso de señales"
      ]
    },
    {
      "cell_type": "code",
      "metadata": {
        "colab": {
          "base_uri": "https://localhost:8080/"
        },
        "id": "mN-9fgHEJL4o",
        "outputId": "865f4a62-e617-4bec-e133-c97d12c46578"
      },
      "source": [
        "## lado 0 es el lado izquierdo del rotor \n",
        "## lado 1 es el lado derecho del rotor\n",
        "def buscaElem(rotor, lado, letra):\n",
        "  for i in range(len(rotor)):\n",
        "    componente=rotor[i][lado]\n",
        "    #print(f'Componente {componente}')\n",
        "    if (letra == componente):\n",
        "      return(i)\n",
        "      break\n",
        "   \n",
        "buscaElem(rotorIzquierdo,1,'V')"
      ],
      "execution_count": null,
      "outputs": [
        {
          "output_type": "execute_result",
          "data": {
            "text/plain": [
              "22"
            ]
          },
          "metadata": {},
          "execution_count": 17
        }
      ]
    },
    {
      "cell_type": "code",
      "metadata": {
        "id": "PFuLN1C5TfMO"
      },
      "source": [
        ""
      ],
      "execution_count": null,
      "outputs": []
    },
    {
      "cell_type": "code",
      "metadata": {
        "id": "AeT1RoX6bSQG",
        "colab": {
          "base_uri": "https://localhost:8080/"
        },
        "outputId": "4ad05c0b-7cc9-4d31-e696-224af9e2c10a"
      },
      "source": [
        "# Funciones de pasa_senal_ida, pasa_senal_vuelta y reboteReflector\n",
        "\n",
        "def pasa_senal_ida(rotor, indice):\n",
        "    letraPaso=rotor[indice][1]\n",
        "  \n",
        "    #print(f'Letra paso IDA {letraPaso}')\n",
        "    index_ida=buscaElem(rotor,0,letraPaso)\n",
        "    \n",
        "    return index_ida\n",
        "    \n",
        "def pasa_senal_vuelta(rotor, indice):\n",
        "    letraPaso=rotor[indice][0]\n",
        "    #print(f'Letra paso VUELTA {letraPaso}')\n",
        "    index_vuelta=buscaElem(rotor,1,letraPaso)\n",
        "\n",
        "    return index_vuelta\n",
        "    \n",
        "def reboteReflector(reflectorPaso,letra,indice):\n",
        "  import copy\n",
        "  copiaReflector=copy.deepcopy(reflectorPaso)\n",
        "  copiaReflector[indice] = \"*\"\n",
        "  #print (copiaReflector)\n",
        "  #print (letra)\n",
        "  return copiaReflector.index(letra)\n",
        "reboteReflector(reflector,\"E\",4)"
      ],
      "execution_count": null,
      "outputs": [
        {
          "output_type": "execute_result",
          "data": {
            "text/plain": [
              "16"
            ]
          },
          "metadata": {},
          "execution_count": 18
        }
      ]
    },
    {
      "cell_type": "markdown",
      "metadata": {
        "id": "Y9eomU2dbSQG"
      },
      "source": [
        "## <font color='green'>Tarea 5:</font> Armando la ENIGMA\n",
        "\n",
        "Bien hecho hasta acá Hacker. Ahora debes armar la máquina.\n",
        "\n",
        "Crea una función **enigma**\n",
        "\n",
        "```python\n",
        "def enigma(mensaje, clave):\n",
        "```\n",
        "Entrada:<br>\n",
        "**mensaje**: corresponde a un strig que contiene el mensaje a codificar. Recuerda que no se usaban ni numeros ni caractares especiales. Solo lo que el teclado de entrada pudiera escribir.<br>\n",
        "**clave**. Es la clave para posicionar los rotores al inicio\n",
        "\n",
        "Salida:<br>\n",
        "Mensaje cifrado\n"
      ]
    },
    {
      "cell_type": "code",
      "metadata": {
        "id": "BKKEmLNlbSQH"
      },
      "source": [
        "# Tu código aquí ...\n",
        "\n",
        "def enigma(mensaje, clave):\n",
        "    \"\"\"\n",
        "    Función que simula la operación de la Máquina Enigma\n",
        "    \"\"\"\n",
        "    \n",
        "    # Rotamos discos a posición clave\n",
        "   # conf_rotores(clave, verbose)\n",
        "    DefinirEstadoInicialRotores(clave)\n",
        "    letraCorteRotorDerecho=\"V\"\n",
        "    letraCorteRotorCentral=\"Q\"\n",
        "    mensajeDesifrado=[]\n",
        "    for l in mensaje:\n",
        "        \n",
        "        letra=l\n",
        "       \n",
        "        # Cada vez que procesamos una letra, primero \n",
        "        # rotamos el disco derecho (sus dos componentes)\n",
        "        # Cuando la letra \"V\" del la componente de salida del rotor derecho\n",
        "        # alcanza la posición inicial, se gira una posición el rotor central\n",
        "        # Lo mismo ocurre cuando la letra 'Q' del rotor centra llega al inicio,\n",
        "        # se avanza una posición ambos componentes del rotor izquierdo\n",
        "       \n",
        "        avanzaRotor(rotorDerecho,1)\n",
        "     \n",
        "        \n",
        "        #Ubicamos indice la letra que se ingresa en el teclado\n",
        "        indiceLetra = listaTecado.index(letra)\n",
        "        #print(f'Letra {letra} {indiceLetra}')\n",
        "\n",
        "        \n",
        "        # ida en rotor derecho\n",
        "        indicePasoDerecho=pasa_senal_ida(rotorDerecho,indiceLetra)\n",
        "        #print(f'IDA Indice por el lado de la salida Rotor Derecho: {indicePasoDerecho}')\n",
        "        \n",
        "        \n",
        "        # ida en rotor medio\n",
        "        indicePasoCentral=pasa_senal_ida(rotorCentral,indicePasoDerecho)\n",
        "        #print(f'IDA Indice por el lado de la salida Rotor Central: {indicePasoCentral}')\n",
        "        \n",
        "        \n",
        "        # ida en rotor izquierdo\n",
        "        indicePasoIzquierdo=pasa_senal_ida(rotorIzquierdo,indicePasoCentral)\n",
        "        #print(f'IDA Indice por el lado de la salida Rotor izquierdo: {indicePasoIzquierdo}')\n",
        "       \n",
        "              \n",
        "        # rebote en rotor reflector\n",
        "        #print(f'Reflector indice {indicePasoIzquierdo} {reflector[indicePasoIzquierdo]}')\n",
        "        indiceRevoteVuelta=reboteReflector(reflector,reflector[indicePasoIzquierdo],indicePasoIzquierdo)\n",
        "        #print(f'La letra Hermana a la encontrada esta en {indiceRevoteVuelta} la  letra es {reflector[indiceRevoteVuelta]}')\n",
        "        \n",
        "        #vuelta en rotor izquierdo\n",
        "        indicePasoIzquierdoVuelta=pasa_senal_vuelta(rotorIzquierdo,indiceRevoteVuelta)\n",
        "        #print(f'VUELTA Indice por el lado de la salida Rotor Izquierdo: {indicePasoIzquierdoVuelta}')\n",
        "        \n",
        "        # vuelta en rotor medio\n",
        "        indicePasoCentralVuelta=pasa_senal_vuelta(rotorCentral,indicePasoIzquierdoVuelta)\n",
        "        #print(f'VUELTA Indice por el lado de la salida Rotor Central: {indicePasoCentralVuelta}')\n",
        "\n",
        "        # vuelta en rotor derecho\n",
        "        indicePasoDerechoVuelta=pasa_senal_vuelta(rotorDerecho,indicePasoCentralVuelta)\n",
        "        #print(f'VUELTA Indice por el lado de la salida Rotor Deerecho: {indicePasoDerechoVuelta}')\n",
        "              \n",
        "        # Vuelta LETRA DE SALIDA\n",
        "        #print(f'{letra} -> {listaTecado[indicePasoDerechoVuelta]}')\n",
        "        mensajeDesifrado.append(listaTecado[indicePasoDerechoVuelta])\n",
        "        #print(f\"Compara {rotorDerecho[0][0]} con {letraCorteRotorDerecho}\")\n",
        "        if (rotorDerecho[0][0] == letraCorteRotorDerecho):\n",
        "          #print(\"Entre en condicion gira rotor central en 1\")\n",
        "          avanzaRotor(rotorCentral,1)\n",
        "        if (rotorCentral[0][0] == letraCorteRotorCentral):\n",
        "          avanzaRotor(rotorIzquierdo,1)\n",
        "\n",
        "    return \"\".join(mensajeDesifrado)"
      ],
      "execution_count": null,
      "outputs": []
    },
    {
      "cell_type": "markdown",
      "metadata": {
        "id": "g273KUCwXK8g"
      },
      "source": [
        "## <font color='darkorange'>**Se lllama a la funcion principal enigma, recordar ejecuhtar todas las celdas anteriores**</font>"
      ]
    },
    {
      "cell_type": "code",
      "metadata": {
        "id": "9RC_TMcebSQH",
        "colab": {
          "base_uri": "https://localhost:8080/"
        },
        "outputId": "550027b4-868e-44ee-c713-841a01dce069"
      },
      "source": [
        "# Probemos si funciona\n",
        "# Rcordar que deben estar ejecutadas todas las celdas Anteriores\n",
        "#enigma('QMJI','JGC')\n",
        "mensajeDesifrar = \"ENIGMAREVEALED\"\n",
        "llave = \"MCK\"\n",
        "mensaje1 = enigma(mensajeDesifrar,llave)\n",
        "mensaje2 = enigma(mensaje1,llave)\n",
        "print(f'Mensaje con llave {llave} desifrar [{mensajeDesifrar}]  -> {mensaje1}')\n",
        "print(f'Mensaje con llave {llave} desifrar [{mensaje1}]  -> {mensaje2}')\n",
        "print(f'Mostramos estado de los rotores y la maquina en general')\n",
        "print(estadoMaquina())\n",
        "print(\"\\n\"*3)\n",
        "\n",
        "#Probamos con otra texto y otra llave\n",
        "llave = \"JLO\"\n",
        "mensajeDesifrar = \"QOMSBKEQFQCNVWW\"\n",
        "mensaje3 = enigma(mensajeDesifrar,llave)\n",
        "mensaje4 = enigma(mensaje3,llave)\n",
        "print(f'Mensaje con llave {llave} desifrar [{mensajeDesifrar}]  -> {mensaje3}')\n",
        "print(f'Mensaje con llave {llave} desifrar [{mensajeDesifrar}]  -> {mensaje4}')\n",
        "print(f'Mostramos estado de los rotores y la maquina en general')\n",
        "print(estadoMaquina())\n",
        "print(\"\\n\"*3)\n",
        "\n",
        "\n",
        "\n"
      ],
      "execution_count": null,
      "outputs": [
        {
          "output_type": "stream",
          "name": "stdout",
          "text": [
            "Mensaje con llave MCK desifrar [ENIGMAREVEALED]  -> QMJIDOMZWZJFJR\n",
            "Mensaje con llave MCK desifrar [QMJIDOMZWZJFJR]  -> ENIGMAREVEALED\n",
            "Mostramos estado de los rotores y la maquina en general\n",
            "q Reflector  Rotor_izd   Rotor_med   Rotor_der   Teclado\n",
            "0 A          ['M', 'O']  ['D', 'K']  ['Y', 'Q']   A\n",
            "1 B          ['N', 'W']  ['E', 'S']  ['Z', 'O']   B\n",
            "2 C          ['O', 'Y']  ['F', 'I']  ['A', 'B']   C\n",
            "3 D          ['P', 'H']  ['G', 'R']  ['B', 'D']   D\n",
            "4 E          ['Q', 'X']  ['H', 'U']  ['C', 'F']   E\n",
            "5 F          ['R', 'U']  ['I', 'X']  ['D', 'H']   F\n",
            "6 G          ['S', 'S']  ['J', 'B']  ['E', 'J']   G\n",
            "7 D          ['T', 'P']  ['K', 'L']  ['F', 'L']   H\n",
            "8 I          ['U', 'A']  ['L', 'H']  ['G', 'C']   I\n",
            "9 J          ['V', 'I']  ['M', 'W']  ['H', 'P']   J\n",
            "10 K          ['W', 'B']  ['N', 'T']  ['I', 'R']   K\n",
            "11 G          ['X', 'R']  ['O', 'M']  ['J', 'T']   L\n",
            "12 M          ['Y', 'C']  ['P', 'C']  ['K', 'X']   M\n",
            "13 K          ['Z', 'J']  ['Q', 'Q']  ['L', 'V']   N\n",
            "14 M          ['A', 'E']  ['R', 'G']  ['M', 'Z']   O\n",
            "15 I          ['B', 'K']  ['S', 'Z']  ['N', 'N']   P\n",
            "16 E          ['C', 'M']  ['T', 'N']  ['O', 'Y']   Q\n",
            "17 B          ['D', 'F']  ['U', 'P']  ['P', 'E']   R\n",
            "18 F          ['E', 'L']  ['V', 'Y']  ['Q', 'I']   S\n",
            "19 T          ['F', 'G']  ['W', 'F']  ['R', 'W']   T\n",
            "20 C          ['G', 'D']  ['X', 'V']  ['S', 'G']   U\n",
            "21 V          ['H', 'Q']  ['Y', 'O']  ['T', 'A']   V\n",
            "22 V          ['I', 'V']  ['Z', 'E']  ['U', 'K']   W\n",
            "23 J          ['J', 'Z']  ['A', 'A']  ['V', 'M']   X\n",
            "24 A          ['K', 'N']  ['B', 'J']  ['W', 'U']   Y\n",
            "25 T          ['L', 'T']  ['C', 'D']  ['X', 'S']   Z\n",
            "None\n",
            "\n",
            "\n",
            "\n",
            "\n",
            "Mensaje con llave JLO desifrar [QOMSBKEQFQCNVWW]  -> SALUDOSDELGRUPO\n",
            "Mensaje con llave JLO desifrar [QOMSBKEQFQCNVWW]  -> QOMSBKEQFQCNVWW\n",
            "Mostramos estado de los rotores y la maquina en general\n",
            "q Reflector  Rotor_izd   Rotor_med   Rotor_der   Teclado\n",
            "0 A          ['J', 'Z']  ['M', 'W']  ['D', 'H']   A\n",
            "1 B          ['K', 'N']  ['N', 'T']  ['E', 'J']   B\n",
            "2 C          ['L', 'T']  ['O', 'M']  ['F', 'L']   C\n",
            "3 D          ['M', 'O']  ['P', 'C']  ['G', 'C']   D\n",
            "4 E          ['N', 'W']  ['Q', 'Q']  ['H', 'P']   E\n",
            "5 F          ['O', 'Y']  ['R', 'G']  ['I', 'R']   F\n",
            "6 G          ['P', 'H']  ['S', 'Z']  ['J', 'T']   G\n",
            "7 D          ['Q', 'X']  ['T', 'N']  ['K', 'X']   H\n",
            "8 I          ['R', 'U']  ['U', 'P']  ['L', 'V']   I\n",
            "9 J          ['S', 'S']  ['V', 'Y']  ['M', 'Z']   J\n",
            "10 K          ['T', 'P']  ['W', 'F']  ['N', 'N']   K\n",
            "11 G          ['U', 'A']  ['X', 'V']  ['O', 'Y']   L\n",
            "12 M          ['V', 'I']  ['Y', 'O']  ['P', 'E']   M\n",
            "13 K          ['W', 'B']  ['Z', 'E']  ['Q', 'I']   N\n",
            "14 M          ['X', 'R']  ['A', 'A']  ['R', 'W']   O\n",
            "15 I          ['Y', 'C']  ['B', 'J']  ['S', 'G']   P\n",
            "16 E          ['Z', 'J']  ['C', 'D']  ['T', 'A']   Q\n",
            "17 B          ['A', 'E']  ['D', 'K']  ['U', 'K']   R\n",
            "18 F          ['B', 'K']  ['E', 'S']  ['V', 'M']   S\n",
            "19 T          ['C', 'M']  ['F', 'I']  ['W', 'U']   T\n",
            "20 C          ['D', 'F']  ['G', 'R']  ['X', 'S']   U\n",
            "21 V          ['E', 'L']  ['H', 'U']  ['Y', 'Q']   V\n",
            "22 V          ['F', 'G']  ['I', 'X']  ['Z', 'O']   W\n",
            "23 J          ['G', 'D']  ['J', 'B']  ['A', 'B']   X\n",
            "24 A          ['H', 'Q']  ['K', 'L']  ['B', 'D']   Y\n",
            "25 T          ['I', 'V']  ['L', 'H']  ['C', 'F']   Z\n",
            "None\n",
            "\n",
            "\n",
            "\n",
            "\n"
          ]
        }
      ]
    },
    {
      "cell_type": "code",
      "metadata": {
        "id": "02XKWp_fpnvD"
      },
      "source": [
        ""
      ],
      "execution_count": null,
      "outputs": []
    },
    {
      "cell_type": "code",
      "metadata": {
        "id": "Qvils-loX0KP"
      },
      "source": [
        ""
      ],
      "execution_count": null,
      "outputs": []
    }
  ]
}